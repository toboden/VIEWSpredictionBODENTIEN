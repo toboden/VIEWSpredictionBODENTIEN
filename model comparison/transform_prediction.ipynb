{
 "cells": [
  {
   "cell_type": "code",
   "execution_count": 1,
   "metadata": {},
   "outputs": [],
   "source": [
    "import pandas as pd\n",
    "from joblib import load\n",
    "from joblib import dump\n",
    "import numpy as np\n",
    "import os\n",
    "\n",
    "# create the feature- and actuals-data list\n",
    "# set the feature and actuals year lists\n",
    "feature_years = ['2017','2018','2019','2020','2021','2022']\n",
    "actual_years = ['2018','2019','2020','2021','2022','2023']\n",
    "\n",
    "actuals_df_list = []\n",
    "features_df_list = []\n",
    "\n",
    "# path to the current directory\n",
    "current_dir = os.getcwd()\n",
    "\n",
    "# read feature dataset\n",
    "relative_path_features = os.path.join('..', 'data', 'cm_features.parquet')\n",
    "path_features = os.path.join(current_dir, relative_path_features)\n",
    "feature_data = pd.read_parquet(path_features, engine='pyarrow')\n",
    "# true future task\n",
    "#feature_data_toApr2024 = feature_data\n",
    "\n",
    "for i in range(len(feature_years)):\n",
    "    # relative paths to the parquet files\n",
    "    relative_path_actuals = os.path.join('..', 'data', 'cm_actuals_' + actual_years[i] + '.parquet')\n",
    "    path_actuals = os.path.join(current_dir, relative_path_actuals)\n",
    "\n",
    "    feature_data_toOct = feature_data[feature_data['month_id'] <= 454 + (i * 12)]\n",
    "    feature_data_toOct.set_index(['month_id', 'country_id'], inplace=True)\n",
    "\n",
    "    # append datasets to the lists\n",
    "    actuals_df_list.append({'year':actual_years[i], 'data':pd.read_parquet(path_actuals, engine='pyarrow')})\n",
    "    features_df_list.append({'year':feature_years[i], 'data':feature_data_toOct})\n",
    "\n",
    "\n",
    "country_list = sorted(features_df_list[-1]['data'].index.get_level_values('country_id').unique().tolist())\n",
    "\n",
    "# country group list of all years\n",
    "country_feature_group_list = []\n",
    "country_actual_group_list = []\n",
    "\n",
    "# fill list \n",
    "for i in range(len(features_df_list)):\n",
    "    country_feature_group_list.append(features_df_list[i]['data'].groupby('country_id'))\n",
    "    country_actual_group_list.append(actuals_df_list[i]['data'].groupby('country_id'))"
   ]
  },
  {
   "cell_type": "markdown",
   "metadata": {},
   "source": [
    "# Benchmark View"
   ]
  },
  {
   "cell_type": "code",
   "execution_count": 3,
   "metadata": {},
   "outputs": [
    {
     "data": {
      "text/html": [
       "<div>\n",
       "<style scoped>\n",
       "    .dataframe tbody tr th:only-of-type {\n",
       "        vertical-align: middle;\n",
       "    }\n",
       "\n",
       "    .dataframe tbody tr th {\n",
       "        vertical-align: top;\n",
       "    }\n",
       "\n",
       "    .dataframe thead th {\n",
       "        text-align: right;\n",
       "    }\n",
       "</style>\n",
       "<table border=\"1\" class=\"dataframe\">\n",
       "  <thead>\n",
       "    <tr style=\"text-align: right;\">\n",
       "      <th></th>\n",
       "      <th></th>\n",
       "      <th></th>\n",
       "      <th>outcome</th>\n",
       "    </tr>\n",
       "    <tr>\n",
       "      <th>month_id</th>\n",
       "      <th>country_id</th>\n",
       "      <th>draw</th>\n",
       "      <th></th>\n",
       "    </tr>\n",
       "  </thead>\n",
       "  <tbody>\n",
       "    <tr>\n",
       "      <th rowspan=\"5\" valign=\"top\">457</th>\n",
       "      <th rowspan=\"5\" valign=\"top\">1</th>\n",
       "      <th>0</th>\n",
       "      <td>0</td>\n",
       "    </tr>\n",
       "    <tr>\n",
       "      <th>1</th>\n",
       "      <td>0</td>\n",
       "    </tr>\n",
       "    <tr>\n",
       "      <th>2</th>\n",
       "      <td>0</td>\n",
       "    </tr>\n",
       "    <tr>\n",
       "      <th>3</th>\n",
       "      <td>0</td>\n",
       "    </tr>\n",
       "    <tr>\n",
       "      <th>4</th>\n",
       "      <td>0</td>\n",
       "    </tr>\n",
       "    <tr>\n",
       "      <th>...</th>\n",
       "      <th>...</th>\n",
       "      <th>...</th>\n",
       "      <td>...</td>\n",
       "    </tr>\n",
       "    <tr>\n",
       "      <th rowspan=\"5\" valign=\"top\">468</th>\n",
       "      <th rowspan=\"5\" valign=\"top\">246</th>\n",
       "      <th>995</th>\n",
       "      <td>15</td>\n",
       "    </tr>\n",
       "    <tr>\n",
       "      <th>996</th>\n",
       "      <td>27</td>\n",
       "    </tr>\n",
       "    <tr>\n",
       "      <th>997</th>\n",
       "      <td>18</td>\n",
       "    </tr>\n",
       "    <tr>\n",
       "      <th>998</th>\n",
       "      <td>17</td>\n",
       "    </tr>\n",
       "    <tr>\n",
       "      <th>999</th>\n",
       "      <td>16</td>\n",
       "    </tr>\n",
       "  </tbody>\n",
       "</table>\n",
       "<p>2292000 rows × 1 columns</p>\n",
       "</div>"
      ],
      "text/plain": [
       "                          outcome\n",
       "month_id country_id draw         \n",
       "457      1          0           0\n",
       "                    1           0\n",
       "                    2           0\n",
       "                    3           0\n",
       "                    4           0\n",
       "...                           ...\n",
       "468      246        995        15\n",
       "                    996        27\n",
       "                    997        18\n",
       "                    998        17\n",
       "                    999        16\n",
       "\n",
       "[2292000 rows x 1 columns]"
      ]
     },
     "execution_count": 3,
     "metadata": {},
     "output_type": "execute_result"
    }
   ],
   "source": [
    "user_dir = os.path.expanduser('~')\n",
    "\n",
    "# Pfad zur Parquet-Datei\n",
    "parquet_file_path = os.path.join(user_dir, 'iCloudDrive\\\\VIEWS Joblib Predicitons\\\\VIEWS benchmark', 'bm_last_cm_2018.parquet')\n",
    "\n",
    "# Parquet-Datei in ein DataFrame einlesen\n",
    "benchmark_data = pd.read_parquet(parquet_file_path)\n",
    "\n",
    "benchmark_data"
   ]
  },
  {
   "cell_type": "markdown",
   "metadata": {},
   "source": [
    "# Nbinom Variant 3"
   ]
  },
  {
   "cell_type": "code",
   "execution_count": 47,
   "metadata": {},
   "outputs": [
    {
     "name": "stdout",
     "output_type": "stream",
     "text": [
      "Overall CRPS, max. w = 24\n",
      "baseline 1: 56.2833\n",
      "baseline 2: 77.1115\n",
      "baseline 3: 56.1098\n",
      "baseline 4: 69.2462\n"
     ]
    }
   ],
   "source": [
    "\n",
    "file_path = os.path.join(user_dir, 'iCloudDrive\\\\VIEWS Joblib Predicitons\\\\Baseline', 'FinalTask2_baseline_predct_nbinomWmax24.joblib')\n",
    "loaded_vars_baseline = load(file_path)\n",
    "\n",
    "task2_baseline_list = loaded_vars_baseline[0] # crps averages for all 4 datasets\n",
    "w_minimization_list = loaded_vars_baseline[1] # contains the minimal w's for the different baselines for each year and country\n",
    "baseline_prediction_list = loaded_vars_baseline[2] # predictions with the minimal w's for each dataset and country\n",
    "baseline1_average_crps = loaded_vars_baseline[3] # mean CRPS from the baseline_prediction_list\n",
    "baseline2_average_crps = loaded_vars_baseline[4] # \"\"\n",
    "baseline3_average_crps = loaded_vars_baseline[5]\n",
    "baseline4_average_crps = loaded_vars_baseline[6]\n",
    "\n",
    "print('Overall CRPS, max. w = 24')\n",
    "print('baseline 1: ' + str(np.round(baseline1_average_crps, decimals = 4)))\n",
    "print('baseline 2: ' + str(np.round(baseline2_average_crps, decimals = 4)))\n",
    "print('baseline 3: ' + str(np.round(baseline3_average_crps, decimals = 4)))\n",
    "print('baseline 4: ' + str(np.round(baseline4_average_crps, decimals = 4)))"
   ]
  },
  {
   "cell_type": "code",
   "execution_count": 93,
   "metadata": {},
   "outputs": [],
   "source": [
    "prediction_year_nbinom = '2023' # 2019, 2020, 2021, 2022, 2023\n",
    "\n",
    "dataset_index = actual_years.index(prediction_year_nbinom)\n",
    "actual_data = actuals_df_list[dataset_index]['data']\n",
    "actuals_months = actual_data.index.get_level_values('month_id').unique()"
   ]
  },
  {
   "cell_type": "code",
   "execution_count": 94,
   "metadata": {},
   "outputs": [
    {
     "data": {
      "text/plain": [
       "Index([517, 518, 519, 520, 521, 522, 523, 524, 525, 526, 527, 528], dtype='int64', name='month_id')"
      ]
     },
     "execution_count": 94,
     "metadata": {},
     "output_type": "execute_result"
    }
   ],
   "source": [
    "actuals_months"
   ]
  },
  {
   "cell_type": "code",
   "execution_count": 95,
   "metadata": {},
   "outputs": [],
   "source": [
    "monthly_fatlities_pred = pd.DataFrame()\n",
    "\n",
    "#### achtung nbinom 1, hurdle 0\n",
    "for country in baseline_prediction_list[2]:\n",
    "\n",
    "    for s in range(3,15):\n",
    "        \n",
    "        month_id = actuals_months[s-3]\n",
    "        country_id = country['country_id']\n",
    "\n",
    "        distribution = country['prediction'][prediction_year_nbinom][s-3]['fatalities']\n",
    "        distribution = [int(num) for num in distribution]\n",
    "        draw = list(range(0,len(distribution)))\n",
    "\n",
    "        index_tupel_list = []\n",
    "        for i in range(len(distribution)):\n",
    "            index_tupel_list.append((month_id,country_id,draw[i]))\n",
    "\n",
    "        index = pd.MultiIndex.from_tuples(index_tupel_list, names=['month_id', 'country_id', 'draw'])\n",
    "\n",
    "        # Erstelle eine Beispiel-Spalte \"outcome\"\n",
    "        outcome = distribution\n",
    "\n",
    "        # Erstelle den DataFrame\n",
    "        df = pd.DataFrame({'outcome': outcome}, index=index)\n",
    "\n",
    "        monthly_fatlities_pred = pd.concat([monthly_fatlities_pred, df], ignore_index=False)"
   ]
  },
  {
   "cell_type": "code",
   "execution_count": 90,
   "metadata": {},
   "outputs": [
    {
     "name": "stdout",
     "output_type": "stream",
     "text": [
      "Mean CRPS = 125.61592006015138 \\\\\n"
     ]
    }
   ],
   "source": [
    "import CRPS.CRPS as pscore\n",
    "import numpy as np\n",
    "\n",
    "actual_group = actual_data.groupby('country_id')\n",
    "\n",
    "baseline_country_group = monthly_fatlities_pred.groupby('country_id')\n",
    "crps_values_test = []\n",
    "\n",
    "for country in baseline_country_group:\n",
    "    country_id = country[0]\n",
    "\n",
    "    country_crps_list = []\n",
    "    for i in range(0,12):\n",
    "        y_true = actual_group.get_group(country_id).iloc[i,0]\n",
    "        month = actuals_months[i]\n",
    "        prediction = baseline_country_group.get_group(country_id).xs(month, level='month_id').values.flatten()\n",
    "        crps = pscore(prediction,y_true).compute()[0]\n",
    "        country_crps_list.append(crps)\n",
    "    crps_values_test.append(np.mean(country_crps_list))\n",
    "\n",
    "mean_crps_test = np.mean(crps_values_test)\n",
    "\n",
    "\n",
    "print('Mean CRPS = ' + str(mean_crps_test) + ' \\\\'+'\\\\')"
   ]
  },
  {
   "cell_type": "code",
   "execution_count": 96,
   "metadata": {},
   "outputs": [],
   "source": [
    "monthly_fatlities_pred.to_parquet('cm_nbinom_test_window_' + prediction_year_nbinom + '.parquet')\n"
   ]
  },
  {
   "cell_type": "code",
   "execution_count": 92,
   "metadata": {},
   "outputs": [
    {
     "data": {
      "text/html": [
       "<div>\n",
       "<style scoped>\n",
       "    .dataframe tbody tr th:only-of-type {\n",
       "        vertical-align: middle;\n",
       "    }\n",
       "\n",
       "    .dataframe tbody tr th {\n",
       "        vertical-align: top;\n",
       "    }\n",
       "\n",
       "    .dataframe thead th {\n",
       "        text-align: right;\n",
       "    }\n",
       "</style>\n",
       "<table border=\"1\" class=\"dataframe\">\n",
       "  <thead>\n",
       "    <tr style=\"text-align: right;\">\n",
       "      <th></th>\n",
       "      <th></th>\n",
       "      <th></th>\n",
       "      <th>outcome</th>\n",
       "    </tr>\n",
       "    <tr>\n",
       "      <th>month_id</th>\n",
       "      <th>country_id</th>\n",
       "      <th>draw</th>\n",
       "      <th></th>\n",
       "    </tr>\n",
       "  </thead>\n",
       "  <tbody>\n",
       "    <tr>\n",
       "      <th rowspan=\"5\" valign=\"top\">505</th>\n",
       "      <th rowspan=\"5\" valign=\"top\">1</th>\n",
       "      <th>0</th>\n",
       "      <td>0</td>\n",
       "    </tr>\n",
       "    <tr>\n",
       "      <th>1</th>\n",
       "      <td>0</td>\n",
       "    </tr>\n",
       "    <tr>\n",
       "      <th>2</th>\n",
       "      <td>0</td>\n",
       "    </tr>\n",
       "    <tr>\n",
       "      <th>3</th>\n",
       "      <td>0</td>\n",
       "    </tr>\n",
       "    <tr>\n",
       "      <th>4</th>\n",
       "      <td>0</td>\n",
       "    </tr>\n",
       "    <tr>\n",
       "      <th>...</th>\n",
       "      <th>...</th>\n",
       "      <th>...</th>\n",
       "      <td>...</td>\n",
       "    </tr>\n",
       "    <tr>\n",
       "      <th rowspan=\"5\" valign=\"top\">516</th>\n",
       "      <th rowspan=\"5\" valign=\"top\">246</th>\n",
       "      <th>994</th>\n",
       "      <td>101</td>\n",
       "    </tr>\n",
       "    <tr>\n",
       "      <th>995</th>\n",
       "      <td>107</td>\n",
       "    </tr>\n",
       "    <tr>\n",
       "      <th>996</th>\n",
       "      <td>114</td>\n",
       "    </tr>\n",
       "    <tr>\n",
       "      <th>997</th>\n",
       "      <td>124</td>\n",
       "    </tr>\n",
       "    <tr>\n",
       "      <th>998</th>\n",
       "      <td>142</td>\n",
       "    </tr>\n",
       "  </tbody>\n",
       "</table>\n",
       "<p>2289708 rows × 1 columns</p>\n",
       "</div>"
      ],
      "text/plain": [
       "                          outcome\n",
       "month_id country_id draw         \n",
       "505      1          0           0\n",
       "                    1           0\n",
       "                    2           0\n",
       "                    3           0\n",
       "                    4           0\n",
       "...                           ...\n",
       "516      246        994       101\n",
       "                    995       107\n",
       "                    996       114\n",
       "                    997       124\n",
       "                    998       142\n",
       "\n",
       "[2289708 rows x 1 columns]"
      ]
     },
     "execution_count": 92,
     "metadata": {},
     "output_type": "execute_result"
    }
   ],
   "source": [
    "monthly_fatlities_pred"
   ]
  },
  {
   "cell_type": "markdown",
   "metadata": {},
   "source": [
    "# Hurdle Variant 1"
   ]
  },
  {
   "cell_type": "code",
   "execution_count": 4,
   "metadata": {},
   "outputs": [
    {
     "name": "stdout",
     "output_type": "stream",
     "text": [
      "Overall CRPS, max. w = 24\n",
      "baseline 1: 56.6621\n",
      "baseline 2: 77.4704\n",
      "baseline 3: 58.6499\n",
      "baseline 4: 74.6854\n"
     ]
    }
   ],
   "source": [
    "file_path = os.path.join(user_dir, 'iCloudDrive\\\\VIEWS Joblib Predicitons\\\\Baseline', 'FinalTask2_baseline_predct_hurdleWmax24.joblib')\n",
    "loaded_vars_baseline = load(file_path)\n",
    "\n",
    "task2_baseline_list = loaded_vars_baseline[0] # crps averages for all 4 datasets\n",
    "w_minimization_list = loaded_vars_baseline[1] # contains the minimal w's for the different baselines for each year and country\n",
    "baseline_prediction_list = loaded_vars_baseline[2] # predictions with the minimal w's for each dataset and country\n",
    "baseline1_average_crps = loaded_vars_baseline[3] # mean CRPS from the baseline_prediction_list\n",
    "baseline2_average_crps = loaded_vars_baseline[4] # \"\"\n",
    "baseline3_average_crps = loaded_vars_baseline[5]\n",
    "baseline4_average_crps = loaded_vars_baseline[6]\n",
    "\n",
    "print('Overall CRPS, max. w = 24')\n",
    "print('baseline 1: ' + str(np.round(baseline1_average_crps, decimals = 4)))\n",
    "print('baseline 2: ' + str(np.round(baseline2_average_crps, decimals = 4)))\n",
    "print('baseline 3: ' + str(np.round(baseline3_average_crps, decimals = 4)))\n",
    "print('baseline 4: ' + str(np.round(baseline4_average_crps, decimals = 4)))"
   ]
  },
  {
   "cell_type": "code",
   "execution_count": 25,
   "metadata": {},
   "outputs": [],
   "source": [
    "prediction_year_hurdle = '2023' # 2019, 2020, 2021, 2022, 2023\n",
    "\n",
    "dataset_index = actual_years.index(prediction_year_hurdle)\n",
    "actual_data = actuals_df_list[dataset_index]['data']\n",
    "actuals_months = actual_data.index.get_level_values('month_id').unique()"
   ]
  },
  {
   "cell_type": "code",
   "execution_count": 26,
   "metadata": {},
   "outputs": [],
   "source": [
    "monthly_fatlities_pred = pd.DataFrame()\n",
    "\n",
    "#### achtung hurdle 0 da variante 1\n",
    "for country in baseline_prediction_list[0]:\n",
    "\n",
    "    for s in country['prediction'][prediction_year_hurdle][0]['s']:\n",
    "        \n",
    "        month_id = actuals_months[s-3]\n",
    "        country_id = country['country_id']\n",
    "\n",
    "        distribution = country['prediction'][prediction_year_hurdle][0]['fatalities']\n",
    "        distribution = [int(num) for num in distribution]\n",
    "        draw = list(range(0,len(distribution)))\n",
    "\n",
    "        index_tupel_list = []\n",
    "        for i in range(len(distribution)):\n",
    "            index_tupel_list.append((month_id,country_id,draw[i]))\n",
    "\n",
    "        index = pd.MultiIndex.from_tuples(index_tupel_list, names=['month_id', 'country_id', 'draw'])\n",
    "\n",
    "        # Erstelle eine Beispiel-Spalte \"outcome\"\n",
    "        outcome = distribution\n",
    "\n",
    "        # Erstelle den DataFrame\n",
    "        df = pd.DataFrame({'outcome': outcome}, index=index)\n",
    "\n",
    "        monthly_fatlities_pred = pd.concat([monthly_fatlities_pred, df], ignore_index=False)"
   ]
  },
  {
   "cell_type": "code",
   "execution_count": 27,
   "metadata": {},
   "outputs": [
    {
     "name": "stdout",
     "output_type": "stream",
     "text": [
      "Mean CRPS = 87.95059459068102 \\\\\n"
     ]
    }
   ],
   "source": [
    "import CRPS.CRPS as pscore\n",
    "import numpy as np\n",
    "\n",
    "actual_group = actual_data.groupby('country_id')\n",
    "\n",
    "baseline_country_group = monthly_fatlities_pred.groupby('country_id')\n",
    "crps_values_test = []\n",
    "\n",
    "for country in baseline_country_group:\n",
    "    country_id = country[0]\n",
    "\n",
    "    country_crps_list = []\n",
    "    for i in range(0,12):\n",
    "        y_true = actual_group.get_group(country_id).iloc[i,0]\n",
    "        month = actuals_months[i]\n",
    "        prediction = baseline_country_group.get_group(country_id).xs(month, level='month_id').values.flatten()\n",
    "        crps = pscore(prediction,y_true).compute()[0]\n",
    "        country_crps_list.append(crps)\n",
    "    crps_values_test.append(np.mean(country_crps_list))\n",
    "\n",
    "mean_crps_test = np.mean(crps_values_test)\n",
    "\n",
    "\n",
    "print('Mean CRPS = ' + str(mean_crps_test) + ' \\\\'+'\\\\')"
   ]
  },
  {
   "cell_type": "code",
   "execution_count": 28,
   "metadata": {},
   "outputs": [],
   "source": [
    "monthly_fatlities_pred.to_parquet('cm_hurdle_test_window_' + prediction_year_hurdle + '.parquet')"
   ]
  },
  {
   "cell_type": "markdown",
   "metadata": {},
   "source": [
    "# Neural Net"
   ]
  },
  {
   "cell_type": "code",
   "execution_count": null,
   "metadata": {},
   "outputs": [],
   "source": [
    "from joblib import load\n",
    "# var to set---- Jahr hier und unten in .joblib müssen übereinstimmen!!!\n",
    "prediction_year_NN = '2018' # 2019, 2020, 2021\n",
    "#------\n",
    "\n",
    "dataset_index = actual_years.index(prediction_year_NN)\n",
    "actual_data = actuals_df_list[dataset_index]['data']\n",
    "actuals_months = actual_data.index.get_level_values('month_id').unique()\n",
    "# FinalTask2_NN_2021_Hyperparamctr2204all\n",
    "# FinalTask2_NN_2021_HyperparamctrallIndividual\n",
    "# var to set----\n",
    "vars = load('FinalTask2_NNNegBin_2018_HyperparamFixed.joblib')\n",
    "#-----\n",
    "NNet_prediction_list, country_list, pred_year_string, seed, zero_fatalities_country_list, nan_list = vars"
   ]
  },
  {
   "cell_type": "code",
   "execution_count": null,
   "metadata": {},
   "outputs": [],
   "source": [
    "monthly_fatlities_pred = pd.DataFrame()\n",
    "# Iterieren Sie über die Daten und füllen Sie den DataFrame\n",
    "for country in NNet_prediction_list:\n",
    "    for s in country[pred_year_string][0]['s']:\n",
    "        month_id = actuals_months[s-3]\n",
    "        country_id = country['country_id']\n",
    "        distribution = country[pred_year_string][0]['distribution'][s-3]\n",
    "        draw = list(range(0,len(distribution)))\n",
    "\n",
    "        index_tupel_list = []\n",
    "        for i in range(len(distribution)):\n",
    "            index_tupel_list.append((month_id,country_id,draw[i]))\n",
    "\n",
    "        index = pd.MultiIndex.from_tuples(index_tupel_list, names=['month_id', 'country_id', 'draw'])\n",
    "\n",
    "        # Erstelle eine Beispiel-Spalte \"outcome\"\n",
    "        outcome = list(distribution)\n",
    "\n",
    "        # alle Einträge in int transformieren\n",
    "        outcome = [int(element) for element in outcome]\n",
    "\n",
    "        # Erstelle den DataFrame\n",
    "        df = pd.DataFrame({'outcome': outcome}, index=index)\n",
    "\n",
    "        monthly_fatlities_pred = pd.concat([monthly_fatlities_pred, df], ignore_index=False)"
   ]
  },
  {
   "cell_type": "code",
   "execution_count": null,
   "metadata": {},
   "outputs": [],
   "source": [
    "monthly_fatlities_pred.to_parquet('cm_NN_test_window_' + prediction_year_NN + '.parquet')"
   ]
  }
 ],
 "metadata": {
  "kernelspec": {
   "display_name": "Python 3",
   "language": "python",
   "name": "python3"
  },
  "language_info": {
   "codemirror_mode": {
    "name": "ipython",
    "version": 3
   },
   "file_extension": ".py",
   "mimetype": "text/x-python",
   "name": "python",
   "nbconvert_exporter": "python",
   "pygments_lexer": "ipython3",
   "version": "3.10.11"
  },
  "orig_nbformat": 4
 },
 "nbformat": 4,
 "nbformat_minor": 2
}
